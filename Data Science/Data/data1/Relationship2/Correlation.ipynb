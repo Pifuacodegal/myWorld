{
 "cells": [
  {
   "cell_type": "markdown",
   "metadata": {},
   "source": [
    "CORRELATION\n",
    "\n",
    "\n"
   ]
  },
  {
   "cell_type": "markdown",
   "metadata": {},
   "source": [
    "Coefficient of correlation: Is a number that quantifies a relationship between two pairs of variables."
   ]
  },
  {
   "cell_type": "code",
   "execution_count": 1,
   "metadata": {},
   "outputs": [],
   "source": [
    "import pandas as pd"
   ]
  },
  {
   "cell_type": "code",
   "execution_count": 2,
   "metadata": {},
   "outputs": [
    {
     "name": "stdout",
     "output_type": "stream",
     "text": [
      "     S/N             student_names  age weight   height\n",
      "0    1.0            Adokorac Nancy   20     74    177.8\n",
      "1    2.0   Amutuhaire Faith Ahabwe   27     47   157.48\n",
      "2    3.0     KWAGALA JOANNA VICTOR   21     54   185.42\n",
      "3    4.0              mahoro cathy   23     30   185.42\n",
      "4    5.0  Mbabazi Hawa Bint Edrisa   19     59   175.26\n",
      "5    6.0       Nakanjako josephine   24     65   175.26\n",
      "6    7.0            Nanteza Dorcus   21     69   157.48\n",
      "7    8.0             Mbabazi Angel   19     57   167.64\n",
      "8    9.0            Namara Racheal   19     55   154.94\n",
      "9   10.0       Lwamulungi Sheillah   22     78   162.56\n",
      "10   NaN           Nakawuka Sandra   25     60   175.26\n",
      "11   NaN   Achola Gloria Fortunate   27     80   172.72\n",
      "12   NaN             Nagawa Esther   21     58   188.42\n",
      "13   NaN           wanjiku hananny   19     50    165.1\n",
      "14   NaN            babirye Sandra   21     50   175.26\n",
      "15   NaN          nakagga shanitah   21     50   175.26\n",
      "16   NaN    Wembabazi Vivian Ritah   20     49   160.02\n",
      "17   NaN   Nanziri Ritah Namayanja   23     70   162.56\n",
      "18   NaN            Nasejje Mariam   20     62    101.6\n",
      "19   NaN  Namukose Jolline Edriana   20     55   162.56\n",
      "20   NaN      Agatha Faith Anyango   27     55    93.98\n",
      "21   NaN              Kirabo Sarah   23     60    165.1\n",
      "22   NaN          Nansalire Anitah   21     45     63.5\n",
      "23   NaN             Nalugo gladys   19     70    101.6\n",
      "24   NaN            Namakula Allen   20     55   170.18\n",
      "25   NaN           Tukahirwa emily   22     67   175.26\n",
      "26   NaN            Shamirah Ahmed   21     67   137.16\n",
      "27   NaN          Ameso lmmaculate   23     64    165.1\n",
      "28   NaN                Ayoo Teddy   20     50   157.48\n",
      "29   NaN                Biira Mary   30     65   104.14\n",
      "30   NaN        Aloyo Brenda Ojera   23     52   170.18\n",
      "31   NaN        Ayebale Immaculate   24     50   162.56\n"
     ]
    }
   ],
   "source": [
    "df = pd.read_excel(r\"c:\\Users\\Student\\Desktop\\Data Science\\Data\\dataset.xlsx\")\n",
    "print(df)"
   ]
  },
  {
   "cell_type": "code",
   "execution_count": 7,
   "metadata": {},
   "outputs": [],
   "source": [
    "columns = [\"age\", \"weight\", \"height\"]"
   ]
  },
  {
   "cell_type": "code",
   "execution_count": 9,
   "metadata": {},
   "outputs": [],
   "source": [
    "df1 = df[columns]"
   ]
  },
  {
   "cell_type": "code",
   "execution_count": 11,
   "metadata": {},
   "outputs": [
    {
     "data": {
      "text/html": [
       "<div>\n",
       "<style scoped>\n",
       "    .dataframe tbody tr th:only-of-type {\n",
       "        vertical-align: middle;\n",
       "    }\n",
       "\n",
       "    .dataframe tbody tr th {\n",
       "        vertical-align: top;\n",
       "    }\n",
       "\n",
       "    .dataframe thead th {\n",
       "        text-align: right;\n",
       "    }\n",
       "</style>\n",
       "<table border=\"1\" class=\"dataframe\">\n",
       "  <thead>\n",
       "    <tr style=\"text-align: right;\">\n",
       "      <th></th>\n",
       "      <th>age</th>\n",
       "      <th>weight</th>\n",
       "      <th>height</th>\n",
       "    </tr>\n",
       "  </thead>\n",
       "  <tbody>\n",
       "    <tr>\n",
       "      <th>age</th>\n",
       "      <td>1.000000</td>\n",
       "      <td>0.112649</td>\n",
       "      <td>-0.150338</td>\n",
       "    </tr>\n",
       "    <tr>\n",
       "      <th>weight</th>\n",
       "      <td>0.112649</td>\n",
       "      <td>1.000000</td>\n",
       "      <td>-0.023837</td>\n",
       "    </tr>\n",
       "    <tr>\n",
       "      <th>height</th>\n",
       "      <td>-0.150338</td>\n",
       "      <td>-0.023837</td>\n",
       "      <td>1.000000</td>\n",
       "    </tr>\n",
       "  </tbody>\n",
       "</table>\n",
       "</div>"
      ],
      "text/plain": [
       "             age    weight    height\n",
       "age     1.000000  0.112649 -0.150338\n",
       "weight  0.112649  1.000000 -0.023837\n",
       "height -0.150338 -0.023837  1.000000"
      ]
     },
     "execution_count": 11,
     "metadata": {},
     "output_type": "execute_result"
    }
   ],
   "source": [
    "df1.corr()  #correlation matrix"
   ]
  }
 ],
 "metadata": {
  "kernelspec": {
   "display_name": "Python 3",
   "language": "python",
   "name": "python3"
  },
  "language_info": {
   "codemirror_mode": {
    "name": "ipython",
    "version": 3
   },
   "file_extension": ".py",
   "mimetype": "text/x-python",
   "name": "python",
   "nbconvert_exporter": "python",
   "pygments_lexer": "ipython3",
   "version": "3.11.7"
  }
 },
 "nbformat": 4,
 "nbformat_minor": 2
}
