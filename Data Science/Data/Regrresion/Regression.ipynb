{
 "cells": [
  {
   "cell_type": "markdown",
   "metadata": {},
   "source": [
    "Linear regression"
   ]
  },
  {
   "cell_type": "code",
   "execution_count": 5,
   "metadata": {},
   "outputs": [],
   "source": [
    "import pandas as pd"
   ]
  },
  {
   "cell_type": "code",
   "execution_count": 6,
   "metadata": {},
   "outputs": [
    {
     "name": "stdout",
     "output_type": "stream",
     "text": [
      "Requirement already satisfied: statsmodels in c:\\users\\student\\appdata\\local\\packages\\pythonsoftwarefoundation.python.3.11_qbz5n2kfra8p0\\localcache\\local-packages\\python311\\site-packages (0.14.0)\n",
      "Requirement already satisfied: numpy>=1.18 in c:\\users\\student\\appdata\\local\\packages\\pythonsoftwarefoundation.python.3.11_qbz5n2kfra8p0\\localcache\\local-packages\\python311\\site-packages (from statsmodels) (1.25.2)\n",
      "Requirement already satisfied: scipy!=1.9.2,>=1.4 in c:\\users\\student\\appdata\\local\\packages\\pythonsoftwarefoundation.python.3.11_qbz5n2kfra8p0\\localcache\\local-packages\\python311\\site-packages (from statsmodels) (1.11.3)\n",
      "Requirement already satisfied: pandas>=1.0 in c:\\users\\student\\appdata\\local\\packages\\pythonsoftwarefoundation.python.3.11_qbz5n2kfra8p0\\localcache\\local-packages\\python311\\site-packages (from statsmodels) (2.1.1)\n",
      "Requirement already satisfied: patsy>=0.5.2 in c:\\users\\student\\appdata\\local\\packages\\pythonsoftwarefoundation.python.3.11_qbz5n2kfra8p0\\localcache\\local-packages\\python311\\site-packages (from statsmodels) (0.5.3)\n",
      "Requirement already satisfied: packaging>=21.3 in c:\\users\\student\\appdata\\local\\packages\\pythonsoftwarefoundation.python.3.11_qbz5n2kfra8p0\\localcache\\local-packages\\python311\\site-packages (from statsmodels) (23.1)\n",
      "Requirement already satisfied: python-dateutil>=2.8.2 in c:\\users\\student\\appdata\\local\\packages\\pythonsoftwarefoundation.python.3.11_qbz5n2kfra8p0\\localcache\\local-packages\\python311\\site-packages (from pandas>=1.0->statsmodels) (2.8.2)\n",
      "Requirement already satisfied: pytz>=2020.1 in c:\\users\\student\\appdata\\local\\packages\\pythonsoftwarefoundation.python.3.11_qbz5n2kfra8p0\\localcache\\local-packages\\python311\\site-packages (from pandas>=1.0->statsmodels) (2023.3.post1)\n",
      "Requirement already satisfied: tzdata>=2022.1 in c:\\users\\student\\appdata\\local\\packages\\pythonsoftwarefoundation.python.3.11_qbz5n2kfra8p0\\localcache\\local-packages\\python311\\site-packages (from pandas>=1.0->statsmodels) (2023.3)\n",
      "Requirement already satisfied: six in c:\\users\\student\\appdata\\local\\packages\\pythonsoftwarefoundation.python.3.11_qbz5n2kfra8p0\\localcache\\local-packages\\python311\\site-packages (from patsy>=0.5.2->statsmodels) (1.16.0)\n",
      "Note: you may need to restart the kernel to use updated packages.\n"
     ]
    }
   ],
   "source": [
    "pip install statsmodels"
   ]
  },
  {
   "cell_type": "code",
   "execution_count": 7,
   "metadata": {},
   "outputs": [],
   "source": [
    "import statsmodels.formula.api as smf"
   ]
  },
  {
   "cell_type": "code",
   "execution_count": 8,
   "metadata": {},
   "outputs": [
    {
     "name": "stdout",
     "output_type": "stream",
     "text": [
      "    S/N             student_names  age  weight   height  Admission \n",
      "0     1            Adokorac Nancy   20      74    177.8           1\n",
      "1     2   Amutuhaire Faith Ahabwe   27      47   157.48           1\n",
      "2     3     KWAGALA JOANNA VICTOR   21      54   185.42           1\n",
      "3     4              mahoro cathy   23      30   185.42           1\n",
      "4     5  Mbabazi Hawa Bint Edrisa   19      59   175.26           1\n",
      "5     6       Nakanjako josephine   24      65   175.26           1\n",
      "6     7            Nanteza Dorcus   21      69   157.48           1\n",
      "7     8             Mbabazi Angel   19      57   167.64           1\n",
      "8     9            Namara Racheal   19      55   154.94           1\n",
      "9    10       Lwamulungi Sheillah   22      78   162.56           1\n",
      "10   11           Nakawuka Sandra   25      60   175.26           1\n",
      "11   12   Achola Gloria Fortunate   27      80   172.72           1\n",
      "12   13             Nagawa Esther   21      58   188.42           1\n",
      "13   14           wanjiku hananny   19      50    165.1           1\n",
      "14   15            babirye Sandra   21      50   175.26           1\n",
      "15   16          nakagga shanitah   21      50   175.26           1\n",
      "16   17    Wembabazi Vivian Ritah   20      49   160.02           1\n",
      "17   18   Nanziri Ritah Namayanja   23      70   162.56           1\n",
      "18   19            Nasejje Mariam   20      62    101.6           1\n",
      "19   20  Namukose Jolline Edriana   20      55   162.56           1\n",
      "20   21      Agatha Faith Anyango   27      55    93.98           1\n",
      "21   22              Kirabo Sarah   23      60    165.1           1\n",
      "22   23          Nansalire Anitah   21      45     63.5           1\n",
      "23   24             Nalugo gladys   19      70    101.6           1\n",
      "24   25            Namakula Allen   20      55   170.18           1\n",
      "25   26           Tukahirwa emily   22      67   175.26           1\n",
      "26   27            Shamirah Ahmed   21      67   137.16           1\n",
      "27   28          Ameso lmmaculate   23      64    165.1           1\n",
      "28   29                Ayoo Teddy   20      50   157.48           1\n",
      "29   30                Biira Mary   30      65   104.14           1\n",
      "30   31        Aloyo Brenda Ojera   23      52   170.18           1\n",
      "31   32        Ayebale Immaculate   24      50   162.56           1\n"
     ]
    }
   ],
   "source": [
    "df = pd.read_excel(r\"c:\\Users\\Student\\Desktop\\Data Science\\Data\\dataset.xlsx\")\n",
    "print(df)"
   ]
  },
  {
   "cell_type": "code",
   "execution_count": 9,
   "metadata": {},
   "outputs": [
    {
     "name": "stdout",
     "output_type": "stream",
     "text": [
      "Requirement already satisfied: scipy in c:\\users\\student\\appdata\\local\\packages\\pythonsoftwarefoundation.python.3.11_qbz5n2kfra8p0\\localcache\\local-packages\\python311\\site-packages (1.11.3)\n",
      "Requirement already satisfied: numpy<1.28.0,>=1.21.6 in c:\\users\\student\\appdata\\local\\packages\\pythonsoftwarefoundation.python.3.11_qbz5n2kfra8p0\\localcache\\local-packages\\python311\\site-packages (from scipy) (1.25.2)\n",
      "Note: you may need to restart the kernel to use updated packages.\n"
     ]
    }
   ],
   "source": [
    "pip install scipy"
   ]
  },
  {
   "cell_type": "code",
   "execution_count": 10,
   "metadata": {},
   "outputs": [],
   "source": [
    "subset = df.dropna(subset=[\"height\",\"weight\"])"
   ]
  },
  {
   "cell_type": "code",
   "execution_count": 11,
   "metadata": {},
   "outputs": [
    {
     "name": "stdout",
     "output_type": "stream",
     "text": [
      "    S/N             student_names  age  weight   height  Admission \n",
      "0     1            Adokorac Nancy   20      74    177.8           1\n",
      "1     2   Amutuhaire Faith Ahabwe   27      47   157.48           1\n",
      "2     3     KWAGALA JOANNA VICTOR   21      54   185.42           1\n",
      "3     4              mahoro cathy   23      30   185.42           1\n",
      "4     5  Mbabazi Hawa Bint Edrisa   19      59   175.26           1\n",
      "5     6       Nakanjako josephine   24      65   175.26           1\n",
      "6     7            Nanteza Dorcus   21      69   157.48           1\n",
      "7     8             Mbabazi Angel   19      57   167.64           1\n",
      "8     9            Namara Racheal   19      55   154.94           1\n",
      "9    10       Lwamulungi Sheillah   22      78   162.56           1\n",
      "10   11           Nakawuka Sandra   25      60   175.26           1\n",
      "11   12   Achola Gloria Fortunate   27      80   172.72           1\n",
      "12   13             Nagawa Esther   21      58   188.42           1\n",
      "13   14           wanjiku hananny   19      50    165.1           1\n",
      "14   15            babirye Sandra   21      50   175.26           1\n",
      "15   16          nakagga shanitah   21      50   175.26           1\n",
      "16   17    Wembabazi Vivian Ritah   20      49   160.02           1\n",
      "17   18   Nanziri Ritah Namayanja   23      70   162.56           1\n",
      "18   19            Nasejje Mariam   20      62    101.6           1\n",
      "19   20  Namukose Jolline Edriana   20      55   162.56           1\n",
      "20   21      Agatha Faith Anyango   27      55    93.98           1\n",
      "21   22              Kirabo Sarah   23      60    165.1           1\n",
      "22   23          Nansalire Anitah   21      45     63.5           1\n",
      "23   24             Nalugo gladys   19      70    101.6           1\n",
      "24   25            Namakula Allen   20      55   170.18           1\n",
      "25   26           Tukahirwa emily   22      67   175.26           1\n",
      "26   27            Shamirah Ahmed   21      67   137.16           1\n",
      "27   28          Ameso lmmaculate   23      64    165.1           1\n",
      "28   29                Ayoo Teddy   20      50   157.48           1\n",
      "29   30                Biira Mary   30      65   104.14           1\n",
      "30   31        Aloyo Brenda Ojera   23      52   170.18           1\n",
      "31   32        Ayebale Immaculate   24      50   162.56           1\n"
     ]
    }
   ],
   "source": [
    "print(subset)"
   ]
  },
  {
   "cell_type": "code",
   "execution_count": 12,
   "metadata": {},
   "outputs": [],
   "source": [
    "from scipy.stats import linregress"
   ]
  },
  {
   "cell_type": "code",
   "execution_count": 13,
   "metadata": {},
   "outputs": [],
   "source": [
    "height= df[\"height\"]"
   ]
  },
  {
   "cell_type": "code",
   "execution_count": 14,
   "metadata": {},
   "outputs": [],
   "source": [
    "weight = df [\"weight\"]"
   ]
  },
  {
   "cell_type": "code",
   "execution_count": 15,
   "metadata": {},
   "outputs": [],
   "source": [
    "import scipy.stats as stats"
   ]
  },
  {
   "cell_type": "markdown",
   "metadata": {},
   "source": [
    "correcting the data by removing rows with missing values"
   ]
  },
  {
   "cell_type": "code",
   "execution_count": 19,
   "metadata": {},
   "outputs": [],
   "source": [
    "#clean the data by using rows with missing values\n",
    "df = df.dropna(subset=['weight', 'height'])"
   ]
  },
  {
   "cell_type": "code",
   "execution_count": 20,
   "metadata": {},
   "outputs": [
    {
     "name": "stdout",
     "output_type": "stream",
     "text": [
      "LinregressResult(slope=3.8100000000000023, intercept=-27.94000000000011, rvalue=1.0, pvalue=0.0, stderr=0.0, intercept_stderr=0.0)\n"
     ]
    }
   ],
   "source": [
    "#Ensure that weight and height columns are of numeric data types\n",
    "df['weight'] = pd.to_numeric(df['weight'], errors='coerce')\n",
    "df['height'] = pd.to_numeric(df['height'],errors='coerce')\n",
    "# Perform linear regression analysis\n",
    "weight = df['weight']\n",
    "height = df['height']\n",
    "result = linregress(weight, height)\n",
    "print(result)\n",
    "                             "
   ]
  }
 ],
 "metadata": {
  "kernelspec": {
   "display_name": "Python 3",
   "language": "python",
   "name": "python3"
  },
  "language_info": {
   "codemirror_mode": {
    "name": "ipython",
    "version": 3
   },
   "file_extension": ".py",
   "mimetype": "text/x-python",
   "name": "python",
   "nbconvert_exporter": "python",
   "pygments_lexer": "ipython3",
   "version": "3.11.7"
  }
 },
 "nbformat": 4,
 "nbformat_minor": 2
}
