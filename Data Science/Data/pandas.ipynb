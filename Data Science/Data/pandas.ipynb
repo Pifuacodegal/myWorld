{
 "cells": [
  {
   "cell_type": "code",
   "execution_count": 10,
   "metadata": {},
   "outputs": [],
   "source": [
    "import pandas as pd"
   ]
  },
  {
   "cell_type": "code",
   "execution_count": 11,
   "metadata": {},
   "outputs": [
    {
     "name": "stdout",
     "output_type": "stream",
     "text": [
      "    S/N             student_names  age  weight   height  Admission \n",
      "0     1            Adokorac Nancy   20      74    177.8           1\n",
      "1     2   Amutuhaire Faith Ahabwe   27      47   157.48           1\n",
      "2     3     KWAGALA JOANNA VICTOR   21      54   185.42           1\n",
      "3     4              mahoro cathy   23      30   185.42           1\n",
      "4     5  Mbabazi Hawa Bint Edrisa   19      59   175.26           1\n",
      "5     6       Nakanjako josephine   24      65   175.26           1\n",
      "6     7            Nanteza Dorcus   21      69   157.48           1\n",
      "7     8             Mbabazi Angel   19      57   167.64           1\n",
      "8     9            Namara Racheal   19      55   154.94           1\n",
      "9    10       Lwamulungi Sheillah   22      78   162.56           1\n",
      "10   11           Nakawuka Sandra   25      60   175.26           1\n",
      "11   12   Achola Gloria Fortunate   27      80   172.72           1\n",
      "12   13             Nagawa Esther   21      58   188.42           1\n",
      "13   14           wanjiku hananny   19      50    165.1           1\n",
      "14   15            babirye Sandra   21      50   175.26           1\n",
      "15   16          nakagga shanitah   21      50   175.26           1\n",
      "16   17    Wembabazi Vivian Ritah   20      49   160.02           1\n",
      "17   18   Nanziri Ritah Namayanja   23      70   162.56           1\n",
      "18   19            Nasejje Mariam   20      62    101.6           1\n",
      "19   20  Namukose Jolline Edriana   20      55   162.56           1\n",
      "20   21      Agatha Faith Anyango   27      55    93.98           1\n",
      "21   22              Kirabo Sarah   23      60    165.1           1\n",
      "22   23          Nansalire Anitah   21      45     63.5           1\n",
      "23   24             Nalugo gladys   19      70    101.6           1\n",
      "24   25            Namakula Allen   20      55   170.18           1\n",
      "25   26           Tukahirwa emily   22      67   175.26           1\n",
      "26   27            Shamirah Ahmed   21      67   137.16           1\n",
      "27   28          Ameso lmmaculate   23      64    165.1           1\n",
      "28   29                Ayoo Teddy   20      50   157.48           1\n",
      "29   30                Biira Mary   30      65   104.14           1\n",
      "30   31        Aloyo Brenda Ojera   23      52   170.18           1\n",
      "31   32        Ayebale Immaculate   24      50   162.56           1\n"
     ]
    }
   ],
   "source": [
    "# Creating a DataFrame called df\n",
    "df = pd.read_excel(r'C:\\Users\\Student\\Desktop\\Data Science\\Data\\dataset.xlsx')\n",
    "print(df)"
   ]
  },
  {
   "cell_type": "code",
   "execution_count": 12,
   "metadata": {},
   "outputs": [
    {
     "name": "stdout",
     "output_type": "stream",
     "text": [
      "Requirement already satisfied: openpyxl in c:\\users\\student\\appdata\\local\\packages\\pythonsoftwarefoundation.python.3.11_qbz5n2kfra8p0\\localcache\\local-packages\\python311\\site-packages (3.1.2)\n",
      "Requirement already satisfied: et-xmlfile in c:\\users\\student\\appdata\\local\\packages\\pythonsoftwarefoundation.python.3.11_qbz5n2kfra8p0\\localcache\\local-packages\\python311\\site-packages (from openpyxl) (1.1.0)\n",
      "Note: you may need to restart the kernel to use updated packages.\n"
     ]
    },
    {
     "name": "stderr",
     "output_type": "stream",
     "text": [
      "\n",
      "[notice] A new release of pip is available: 23.2.1 -> 23.3.1\n",
      "[notice] To update, run: C:\\Users\\Student\\AppData\\Local\\Microsoft\\WindowsApps\\PythonSoftwareFoundation.Python.3.11_qbz5n2kfra8p0\\python.exe -m pip install --upgrade pip\n"
     ]
    }
   ],
   "source": [
    "pip install openpyxl"
   ]
  },
  {
   "cell_type": "code",
   "execution_count": 13,
   "metadata": {},
   "outputs": [
    {
     "data": {
      "text/plain": [
       "(32, 6)"
      ]
     },
     "execution_count": 13,
     "metadata": {},
     "output_type": "execute_result"
    }
   ],
   "source": [
    "df.shape"
   ]
  },
  {
   "cell_type": "code",
   "execution_count": 14,
   "metadata": {},
   "outputs": [
    {
     "data": {
      "text/plain": [
       "Index(['S/N', 'student_names', 'age', 'weight', 'height', 'Admission '], dtype='object')"
      ]
     },
     "execution_count": 14,
     "metadata": {},
     "output_type": "execute_result"
    }
   ],
   "source": [
    "df.columns"
   ]
  },
  {
   "cell_type": "code",
   "execution_count": 15,
   "metadata": {},
   "outputs": [
    {
     "data": {
      "text/plain": [
       "pandas.core.frame.DataFrame"
      ]
     },
     "execution_count": 15,
     "metadata": {},
     "output_type": "execute_result"
    }
   ],
   "source": [
    "type(df)"
   ]
  },
  {
   "cell_type": "markdown",
   "metadata": {},
   "source": [
    "Find the mean , standard deviaton and variance of the students"
   ]
  },
  {
   "cell_type": "markdown",
   "metadata": {},
   "source": [
    "Student's age\n"
   ]
  },
  {
   "cell_type": "code",
   "execution_count": 16,
   "metadata": {},
   "outputs": [
    {
     "name": "stdout",
     "output_type": "stream",
     "text": [
      "mean: 22.03125\n"
     ]
    }
   ],
   "source": [
    "#Mean\n",
    "print(\"mean:\",df[\"age\"].mean())"
   ]
  },
  {
   "cell_type": "code",
   "execution_count": 17,
   "metadata": {},
   "outputs": [
    {
     "name": "stdout",
     "output_type": "stream",
     "text": [
      "var: 7.644153225806452\n"
     ]
    }
   ],
   "source": [
    "#Variance\n",
    "print(\"var:\",df[\"age\"].var())"
   ]
  },
  {
   "cell_type": "code",
   "execution_count": 18,
   "metadata": {},
   "outputs": [
    {
     "name": "stdout",
     "output_type": "stream",
     "text": [
      "std: 2.7648061823220904\n"
     ]
    }
   ],
   "source": [
    "#standard deviation\n",
    "print(\"std:\",df[\"age\"].std())"
   ]
  },
  {
   "cell_type": "code",
   "execution_count": 19,
   "metadata": {},
   "outputs": [
    {
     "name": "stdout",
     "output_type": "stream",
     "text": [
      "Requirement already satisfied: openpyxl in c:\\users\\student\\appdata\\local\\packages\\pythonsoftwarefoundation.python.3.11_qbz5n2kfra8p0\\localcache\\local-packages\\python311\\site-packages (3.1.2)\n",
      "Requirement already satisfied: et-xmlfile in c:\\users\\student\\appdata\\local\\packages\\pythonsoftwarefoundation.python.3.11_qbz5n2kfra8p0\\localcache\\local-packages\\python311\\site-packages (from openpyxl) (1.1.0)\n",
      "Note: you may need to restart the kernel to use updated packages.\n"
     ]
    },
    {
     "name": "stderr",
     "output_type": "stream",
     "text": [
      "\n",
      "[notice] A new release of pip is available: 23.2.1 -> 23.3.1\n",
      "[notice] To update, run: C:\\Users\\Student\\AppData\\Local\\Microsoft\\WindowsApps\\PythonSoftwareFoundation.Python.3.11_qbz5n2kfra8p0\\python.exe -m pip install --upgrade pip\n"
     ]
    }
   ],
   "source": [
    "pip install openpyxl"
   ]
  },
  {
   "cell_type": "markdown",
   "metadata": {},
   "source": [
    "STUNDENT'S HEIGHT"
   ]
  },
  {
   "cell_type": "code",
   "execution_count": 20,
   "metadata": {},
   "outputs": [],
   "source": [
    "import pandas as pd"
   ]
  },
  {
   "cell_type": "code",
   "execution_count": 21,
   "metadata": {},
   "outputs": [
    {
     "name": "stdout",
     "output_type": "stream",
     "text": [
      "Requirement already satisfied: xlrd in c:\\users\\student\\appdata\\local\\packages\\pythonsoftwarefoundation.python.3.11_qbz5n2kfra8p0\\localcache\\local-packages\\python311\\site-packages (2.0.1)Note: you may need to restart the kernel to use updated packages.\n",
      "\n"
     ]
    },
    {
     "name": "stderr",
     "output_type": "stream",
     "text": [
      "\n",
      "[notice] A new release of pip is available: 23.2.1 -> 23.3.1\n",
      "[notice] To update, run: C:\\Users\\Student\\AppData\\Local\\Microsoft\\WindowsApps\\PythonSoftwareFoundation.Python.3.11_qbz5n2kfra8p0\\python.exe -m pip install --upgrade pip\n"
     ]
    }
   ],
   "source": [
    "pip install xlrd"
   ]
  },
  {
   "cell_type": "markdown",
   "metadata": {},
   "source": [
    "STUDENT'S WEIGHT"
   ]
  },
  {
   "cell_type": "code",
   "execution_count": 22,
   "metadata": {},
   "outputs": [],
   "source": [
    "#weight\n",
    "df = df[pd.to_numeric(df['weight'],errors='coerce').notna()]"
   ]
  },
  {
   "cell_type": "code",
   "execution_count": 23,
   "metadata": {},
   "outputs": [
    {
     "name": "stdout",
     "output_type": "stream",
     "text": [
      "mean: 58.5\n"
     ]
    }
   ],
   "source": [
    "#mean weight\n",
    "print(\"mean:\",df[\"weight\"].mean())"
   ]
  },
  {
   "cell_type": "code",
   "execution_count": 24,
   "metadata": {},
   "outputs": [
    {
     "name": "stdout",
     "output_type": "stream",
     "text": [
      "var: 110.51612903225806\n"
     ]
    }
   ],
   "source": [
    "#Variance weight\n",
    "print(\"var:\",df[\"weight\"].var())"
   ]
  },
  {
   "cell_type": "code",
   "execution_count": 25,
   "metadata": {},
   "outputs": [
    {
     "name": "stdout",
     "output_type": "stream",
     "text": [
      "std: 10.512665172650467\n"
     ]
    }
   ],
   "source": [
    "#Standard deviation weight\n",
    "print(\"std:\",df[\"weight\"].std())"
   ]
  },
  {
   "cell_type": "markdown",
   "metadata": {},
   "source": [
    "STUDENT'S HEIGHT"
   ]
  },
  {
   "cell_type": "code",
   "execution_count": 26,
   "metadata": {},
   "outputs": [],
   "source": [
    "#Height\n",
    "df = df[pd.to_numeric(df['height'],errors='coerce').notna()]"
   ]
  },
  {
   "cell_type": "code",
   "execution_count": 27,
   "metadata": {},
   "outputs": [
    {
     "name": "stdout",
     "output_type": "stream",
     "text": [
      "mean: 166.37\n"
     ]
    }
   ],
   "source": [
    "#mean height\n",
    "print(\"mean:\",df[\"height\"].mean())"
   ]
  },
  {
   "cell_type": "code",
   "execution_count": 28,
   "metadata": {},
   "outputs": [
    {
     "name": "stdout",
     "output_type": "stream",
     "text": [
      "var: 29.032200000000035\n"
     ]
    }
   ],
   "source": [
    "#Variance height\n",
    "print(\"var:\",df[\"height\"].var())"
   ]
  },
  {
   "cell_type": "code",
   "execution_count": 29,
   "metadata": {},
   "outputs": [
    {
     "name": "stdout",
     "output_type": "stream",
     "text": [
      "std: 5.388153672641495\n"
     ]
    }
   ],
   "source": [
    "#Standard deviation\n",
    "print(\"std:\",df[\"height\"].std())"
   ]
  }
 ],
 "metadata": {
  "kernelspec": {
   "display_name": "Python 3",
   "language": "python",
   "name": "python3"
  },
  "language_info": {
   "codemirror_mode": {
    "name": "ipython",
    "version": 3
   },
   "file_extension": ".py",
   "mimetype": "text/x-python",
   "name": "python",
   "nbconvert_exporter": "python",
   "pygments_lexer": "ipython3",
   "version": "3.11.6"
  },
  "orig_nbformat": 4
 },
 "nbformat": 4,
 "nbformat_minor": 2
}
